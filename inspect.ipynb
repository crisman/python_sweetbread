{
 "cells": [
  {
   "cell_type": "markdown",
   "id": "4a2e3b73-1933-44ab-95c1-d7e1deb99d3c",
   "metadata": {
    "tags": []
   },
   "source": [
    "Some stuff"
   ]
  },
  {
   "cell_type": "code",
   "execution_count": 9,
   "id": "15761a69-187d-420b-9917-642ddb7cf54c",
   "metadata": {},
   "outputs": [
    {
     "name": "stdout",
     "output_type": "stream",
     "text": [
      "('__class__', <class '__main__.MyClass'>)\n",
      "('__delattr__', <method-wrapper '__delattr__' of MyClass object at 0x7fd5bc2ef750>)\n",
      "('__dict__', {'mango': True})\n",
      "('__dir__', <built-in method __dir__ of MyClass object at 0x7fd5bc2ef750>)\n",
      "('__doc__', None)\n",
      "('__eq__', <method-wrapper '__eq__' of MyClass object at 0x7fd5bc2ef750>)\n",
      "('__format__', <built-in method __format__ of MyClass object at 0x7fd5bc2ef750>)\n",
      "('__ge__', <method-wrapper '__ge__' of MyClass object at 0x7fd5bc2ef750>)\n",
      "('__getattribute__', <method-wrapper '__getattribute__' of MyClass object at 0x7fd5bc2ef750>)\n",
      "('__gt__', <method-wrapper '__gt__' of MyClass object at 0x7fd5bc2ef750>)\n",
      "('__hash__', <method-wrapper '__hash__' of MyClass object at 0x7fd5bc2ef750>)\n",
      "('__init__', <bound method MyClass.__init__ of <__main__.MyClass object at 0x7fd5bc2ef750>>)\n",
      "('__init_subclass__', <built-in method __init_subclass__ of type object at 0x55e875bd2240>)\n",
      "('__le__', <method-wrapper '__le__' of MyClass object at 0x7fd5bc2ef750>)\n",
      "('__lt__', <method-wrapper '__lt__' of MyClass object at 0x7fd5bc2ef750>)\n",
      "('__module__', '__main__')\n",
      "('__ne__', <method-wrapper '__ne__' of MyClass object at 0x7fd5bc2ef750>)\n",
      "('__new__', <built-in method __new__ of type object at 0x55e873f130c0>)\n",
      "('__reduce__', <built-in method __reduce__ of MyClass object at 0x7fd5bc2ef750>)\n",
      "('__reduce_ex__', <built-in method __reduce_ex__ of MyClass object at 0x7fd5bc2ef750>)\n",
      "('__repr__', <method-wrapper '__repr__' of MyClass object at 0x7fd5bc2ef750>)\n",
      "('__setattr__', <method-wrapper '__setattr__' of MyClass object at 0x7fd5bc2ef750>)\n",
      "('__sizeof__', <built-in method __sizeof__ of MyClass object at 0x7fd5bc2ef750>)\n",
      "('__str__', <method-wrapper '__str__' of MyClass object at 0x7fd5bc2ef750>)\n",
      "('__subclasshook__', <built-in method __subclasshook__ of type object at 0x55e875bd2240>)\n",
      "('__weakref__', None)\n",
      "('class_var', 'is a var')\n",
      "('mango', True)\n",
      "('my_method', <bound method MyClass.my_method of <__main__.MyClass object at 0x7fd5bc2ef750>>)\n",
      "\n",
      "---------------------------\n",
      "\n",
      "('__class__', <class 'type'>)\n",
      "('__delattr__', <slot wrapper '__delattr__' of 'object' objects>)\n",
      "('__dict__', mappingproxy({'__module__': '__main__', 'class_var': 'is a var', 'my_method': <function MyClass.my_method at 0x7fd5bc2d0c20>, '__init__': <function MyClass.__init__ at 0x7fd5bc2d0cb0>, '__dict__': <attribute '__dict__' of 'MyClass' objects>, '__weakref__': <attribute '__weakref__' of 'MyClass' objects>, '__doc__': None}))\n",
      "('__dir__', <method '__dir__' of 'object' objects>)\n",
      "('__doc__', None)\n",
      "('__eq__', <slot wrapper '__eq__' of 'object' objects>)\n",
      "('__format__', <method '__format__' of 'object' objects>)\n",
      "('__ge__', <slot wrapper '__ge__' of 'object' objects>)\n",
      "('__getattribute__', <slot wrapper '__getattribute__' of 'object' objects>)\n",
      "('__gt__', <slot wrapper '__gt__' of 'object' objects>)\n",
      "('__hash__', <slot wrapper '__hash__' of 'object' objects>)\n",
      "('__init__', <function MyClass.__init__ at 0x7fd5bc2d0cb0>)\n",
      "('__init_subclass__', <built-in method __init_subclass__ of type object at 0x55e875bd2240>)\n",
      "('__le__', <slot wrapper '__le__' of 'object' objects>)\n",
      "('__lt__', <slot wrapper '__lt__' of 'object' objects>)\n",
      "('__module__', '__main__')\n",
      "('__ne__', <slot wrapper '__ne__' of 'object' objects>)\n",
      "('__new__', <built-in method __new__ of type object at 0x55e873f130c0>)\n",
      "('__reduce__', <method '__reduce__' of 'object' objects>)\n",
      "('__reduce_ex__', <method '__reduce_ex__' of 'object' objects>)\n",
      "('__repr__', <slot wrapper '__repr__' of 'object' objects>)\n",
      "('__setattr__', <slot wrapper '__setattr__' of 'object' objects>)\n",
      "('__sizeof__', <method '__sizeof__' of 'object' objects>)\n",
      "('__str__', <slot wrapper '__str__' of 'object' objects>)\n",
      "('__subclasshook__', <built-in method __subclasshook__ of type object at 0x55e875bd2240>)\n",
      "('__weakref__', <attribute '__weakref__' of 'MyClass' objects>)\n",
      "('class_var', 'is a var')\n",
      "('my_method', <function MyClass.my_method at 0x7fd5bc2d0c20>)\n"
     ]
    }
   ],
   "source": [
    "import inspect\n",
    "\n",
    "class MyClass:\n",
    "    class_var = 'is a var'\n",
    "\n",
    "    def my_method(self, text):\n",
    "        print(class_var,text)\n",
    "\n",
    "    def __init__(self):\n",
    "        self.mango = True\n",
    "        apple = False\n",
    "\n",
    "mc = MyClass()\n",
    "\n",
    "for bit in inspect.getmembers(mc):\n",
    "    print(bit)\n",
    "    \n",
    "print()\n",
    "print('---------------------------')\n",
    "print()\n",
    "\n",
    "for bit in inspect.getmembers(MyClass):\n",
    "    print(bit)\n",
    "    \n",
    "\n"
   ]
  },
  {
   "cell_type": "code",
   "execution_count": 8,
   "id": "079c61c5-3120-4060-8cc2-e9976ebdf3d0",
   "metadata": {},
   "outputs": [
    {
     "name": "stdout",
     "output_type": "stream",
     "text": [
      "('__class__', <class 'object'>)\n",
      "('__delattr__', <method-wrapper '__delattr__' of object object at 0x7fd5be70d870>)\n",
      "('__dir__', <built-in method __dir__ of object object at 0x7fd5be70d870>)\n",
      "('__doc__', 'The most base type')\n",
      "('__eq__', <method-wrapper '__eq__' of object object at 0x7fd5be70d870>)\n",
      "('__format__', <built-in method __format__ of object object at 0x7fd5be70d870>)\n",
      "('__ge__', <method-wrapper '__ge__' of object object at 0x7fd5be70d870>)\n",
      "('__getattribute__', <method-wrapper '__getattribute__' of object object at 0x7fd5be70d870>)\n",
      "('__gt__', <method-wrapper '__gt__' of object object at 0x7fd5be70d870>)\n",
      "('__hash__', <method-wrapper '__hash__' of object object at 0x7fd5be70d870>)\n",
      "('__init__', <method-wrapper '__init__' of object object at 0x7fd5be70d870>)\n",
      "('__init_subclass__', <built-in method __init_subclass__ of type object at 0x55e873f130c0>)\n",
      "('__le__', <method-wrapper '__le__' of object object at 0x7fd5be70d870>)\n",
      "('__lt__', <method-wrapper '__lt__' of object object at 0x7fd5be70d870>)\n",
      "('__ne__', <method-wrapper '__ne__' of object object at 0x7fd5be70d870>)\n",
      "('__new__', <built-in method __new__ of type object at 0x55e873f130c0>)\n",
      "('__reduce__', <built-in method __reduce__ of object object at 0x7fd5be70d870>)\n",
      "('__reduce_ex__', <built-in method __reduce_ex__ of object object at 0x7fd5be70d870>)\n",
      "('__repr__', <method-wrapper '__repr__' of object object at 0x7fd5be70d870>)\n",
      "('__setattr__', <method-wrapper '__setattr__' of object object at 0x7fd5be70d870>)\n",
      "('__sizeof__', <built-in method __sizeof__ of object object at 0x7fd5be70d870>)\n",
      "('__str__', <method-wrapper '__str__' of object object at 0x7fd5be70d870>)\n",
      "('__subclasshook__', <built-in method __subclasshook__ of type object at 0x55e873f130c0>)\n"
     ]
    }
   ],
   "source": [
    "o = object()\n",
    "\n",
    "for bit in inspect.getmembers(o):\n",
    "    print(bit)\n"
   ]
  }
 ],
 "metadata": {
  "kernelspec": {
   "display_name": "Python 3 (ipykernel)",
   "language": "python",
   "name": "python3"
  },
  "language_info": {
   "codemirror_mode": {
    "name": "ipython",
    "version": 3
   },
   "file_extension": ".py",
   "mimetype": "text/x-python",
   "name": "python",
   "nbconvert_exporter": "python",
   "pygments_lexer": "ipython3",
   "version": "3.7.12"
  }
 },
 "nbformat": 4,
 "nbformat_minor": 5
}
