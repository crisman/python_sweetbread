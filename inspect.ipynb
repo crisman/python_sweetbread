{
  "metadata": {
    "kernelspec": {
      "name": "python",
      "display_name": "Pyolite",
      "language": "python"
    },
    "language_info": {
      "codemirror_mode": {
        "name": "python",
        "version": 3
      },
      "file_extension": ".py",
      "mimetype": "text/x-python",
      "name": "python",
      "nbconvert_exporter": "python",
      "pygments_lexer": "ipython3",
      "version": "3.8"
    }
  },
  "nbformat_minor": 5,
  "nbformat": 4,
  "cells": [
    {
      "cell_type": "markdown",
      "source": "Looking around inside the top layer of objects with inspect",
      "metadata": {
        "tags": []
      },
      "id": "4a2e3b73-1933-44ab-95c1-d7e1deb99d3c"
    },
    {
      "cell_type": "code",
      "source": "import sys\n\nprint(f'{sys.version = }')\nif \"pyodide\" in sys.modules:\n    import pyodide\n    print(f'{pyodide.__version__ = }')",
      "metadata": {
        "trusted": true
      },
      "execution_count": 1,
      "outputs": [
        {
          "name": "stdout",
          "text": "sys.version = '3.10.2 (main, Apr  9 2022, 20:52:01) [Clang 14.0.0 (https://github.com/llvm/llvm-project 78e87970af888bbbd5652c31f3a8'\npyodide.__version__ = '0.20.0'\n",
          "output_type": "stream"
        }
      ],
      "id": "c4f056a1-3e94-4b37-99cd-5a69a95a0f90"
    },
    {
      "cell_type": "code",
      "source": "import inspect\n\nclass MyClass:\n    class_var = 'is a var'\n\n    def my_method(self, text):\n        print(self.class_var,text)\n\n    def __init__(self):\n        self.mango = True\n        apple = False\n\nmc = MyClass()\n    \nprint()\nmc.my_method('fruit')\nprint()\nprint(MyClass.class_var)\nprint()\nprint(mc.class_var)",
      "metadata": {
        "trusted": true
      },
      "execution_count": 2,
      "outputs": [
        {
          "name": "stdout",
          "text": "\nis a var fruit\n\nis a var\n\nis a var\n",
          "output_type": "stream"
        }
      ],
      "id": "cd64b3ed-a303-4e4d-8270-3320764cf037"
    },
    {
      "cell_type": "code",
      "source": "for bit in inspect.getmembers(mc):\n    print(bit)\n\nprint()\nprint('---------------------------')\nprint()\n\nfor bit in inspect.getmembers(MyClass):\n    print(bit)",
      "metadata": {
        "trusted": true
      },
      "execution_count": 3,
      "outputs": [
        {
          "name": "stdout",
          "text": "('__class__', <class '__main__.MyClass'>)\n('__delattr__', <method-wrapper '__delattr__' of MyClass object at 0x25f28c0>)\n('__dict__', {'mango': True})\n('__dir__', <built-in method __dir__ of MyClass object at 0x25f28c0>)\n('__doc__', None)\n('__eq__', <method-wrapper '__eq__' of MyClass object at 0x25f28c0>)\n('__format__', <built-in method __format__ of MyClass object at 0x25f28c0>)\n('__ge__', <method-wrapper '__ge__' of MyClass object at 0x25f28c0>)\n('__getattribute__', <method-wrapper '__getattribute__' of MyClass object at 0x25f28c0>)\n('__gt__', <method-wrapper '__gt__' of MyClass object at 0x25f28c0>)\n('__hash__', <method-wrapper '__hash__' of MyClass object at 0x25f28c0>)\n('__init__', <bound method MyClass.__init__ of <__main__.MyClass object at 0x25f28c0>>)\n('__init_subclass__', <built-in method __init_subclass__ of type object at 0x2cbbbe8>)\n('__le__', <method-wrapper '__le__' of MyClass object at 0x25f28c0>)\n('__lt__', <method-wrapper '__lt__' of MyClass object at 0x25f28c0>)\n('__module__', '__main__')\n('__ne__', <method-wrapper '__ne__' of MyClass object at 0x25f28c0>)\n('__new__', <built-in method __new__ of type object at 0x2b6c08>)\n('__reduce__', <built-in method __reduce__ of MyClass object at 0x25f28c0>)\n('__reduce_ex__', <built-in method __reduce_ex__ of MyClass object at 0x25f28c0>)\n('__repr__', <method-wrapper '__repr__' of MyClass object at 0x25f28c0>)\n('__setattr__', <method-wrapper '__setattr__' of MyClass object at 0x25f28c0>)\n('__sizeof__', <built-in method __sizeof__ of MyClass object at 0x25f28c0>)\n('__str__', <method-wrapper '__str__' of MyClass object at 0x25f28c0>)\n('__subclasshook__', <built-in method __subclasshook__ of type object at 0x2cbbbe8>)\n('__weakref__', None)\n('class_var', 'is a var')\n('mango', True)\n('my_method', <bound method MyClass.my_method of <__main__.MyClass object at 0x25f28c0>>)\n\n---------------------------\n\n('__class__', <class 'type'>)\n('__delattr__', <slot wrapper '__delattr__' of 'object' objects>)\n('__dict__', mappingproxy({'__module__': '__main__', 'class_var': 'is a var', 'my_method': <function MyClass.my_method at 0x84f0d8>, '__init__': <function MyClass.__init__ at 0x2ca8280>, '__dict__': <attribute '__dict__' of 'MyClass' objects>, '__weakref__': <attribute '__weakref__' of 'MyClass' objects>, '__doc__': None}))\n('__dir__', <method '__dir__' of 'object' objects>)\n('__doc__', None)\n('__eq__', <slot wrapper '__eq__' of 'object' objects>)\n('__format__', <method '__format__' of 'object' objects>)\n('__ge__', <slot wrapper '__ge__' of 'object' objects>)\n('__getattribute__', <slot wrapper '__getattribute__' of 'object' objects>)\n('__gt__', <slot wrapper '__gt__' of 'object' objects>)\n('__hash__', <slot wrapper '__hash__' of 'object' objects>)\n('__init__', <function MyClass.__init__ at 0x2ca8280>)\n('__init_subclass__', <built-in method __init_subclass__ of type object at 0x2cbbbe8>)\n('__le__', <slot wrapper '__le__' of 'object' objects>)\n('__lt__', <slot wrapper '__lt__' of 'object' objects>)\n('__module__', '__main__')\n('__ne__', <slot wrapper '__ne__' of 'object' objects>)\n('__new__', <built-in method __new__ of type object at 0x2b6c08>)\n('__reduce__', <method '__reduce__' of 'object' objects>)\n('__reduce_ex__', <method '__reduce_ex__' of 'object' objects>)\n('__repr__', <slot wrapper '__repr__' of 'object' objects>)\n('__setattr__', <slot wrapper '__setattr__' of 'object' objects>)\n('__sizeof__', <method '__sizeof__' of 'object' objects>)\n('__str__', <slot wrapper '__str__' of 'object' objects>)\n('__subclasshook__', <built-in method __subclasshook__ of type object at 0x2cbbbe8>)\n('__weakref__', <attribute '__weakref__' of 'MyClass' objects>)\n('class_var', 'is a var')\n('my_method', <function MyClass.my_method at 0x84f0d8>)\n",
          "output_type": "stream"
        }
      ],
      "id": "712bd0fc-8f26-4e8c-a1c8-6b506447bf06"
    },
    {
      "cell_type": "code",
      "source": "o = object()\n\nfor bit in inspect.getmembers(o):\n    print(bit)",
      "metadata": {
        "trusted": true
      },
      "execution_count": 4,
      "outputs": [
        {
          "name": "stdout",
          "text": "('__class__', <class 'object'>)\n('__delattr__', <method-wrapper '__delattr__' of object object at 0x1158498>)\n('__dir__', <built-in method __dir__ of object object at 0x1158498>)\n('__doc__', 'The base class of the class hierarchy.\\n\\nWhen called, it accepts no arguments and returns a new featureless\\ninstance that has no instance attributes and cannot be given any.\\n')\n('__eq__', <method-wrapper '__eq__' of object object at 0x1158498>)\n('__format__', <built-in method __format__ of object object at 0x1158498>)\n('__ge__', <method-wrapper '__ge__' of object object at 0x1158498>)\n('__getattribute__', <method-wrapper '__getattribute__' of object object at 0x1158498>)\n('__gt__', <method-wrapper '__gt__' of object object at 0x1158498>)\n('__hash__', <method-wrapper '__hash__' of object object at 0x1158498>)\n('__init__', <method-wrapper '__init__' of object object at 0x1158498>)\n('__init_subclass__', <built-in method __init_subclass__ of type object at 0x2b6c08>)\n('__le__', <method-wrapper '__le__' of object object at 0x1158498>)\n('__lt__', <method-wrapper '__lt__' of object object at 0x1158498>)\n('__ne__', <method-wrapper '__ne__' of object object at 0x1158498>)\n('__new__', <built-in method __new__ of type object at 0x2b6c08>)\n('__reduce__', <built-in method __reduce__ of object object at 0x1158498>)\n('__reduce_ex__', <built-in method __reduce_ex__ of object object at 0x1158498>)\n('__repr__', <method-wrapper '__repr__' of object object at 0x1158498>)\n('__setattr__', <method-wrapper '__setattr__' of object object at 0x1158498>)\n('__sizeof__', <built-in method __sizeof__ of object object at 0x1158498>)\n('__str__', <method-wrapper '__str__' of object object at 0x1158498>)\n('__subclasshook__', <built-in method __subclasshook__ of type object at 0x2b6c08>)\n",
          "output_type": "stream"
        }
      ],
      "id": "079c61c5-3120-4060-8cc2-e9976ebdf3d0"
    }
  ]
}