{
 "cells": [
  {
   "cell_type": "markdown",
   "id": "4a2e3b73-1933-44ab-95c1-d7e1deb99d3c",
   "metadata": {
    "tags": []
   },
   "source": [
    "Some stuff"
   ]
  },
  {
   "cell_type": "code",
   "execution_count": 2,
   "id": "15761a69-187d-420b-9917-642ddb7cf54c",
   "metadata": {},
   "outputs": [
    {
     "data": {
      "text/plain": [
       "'3.7.12 | packaged by conda-forge | (default, Oct 26 2021, 06:08:53) \\n[GCC 9.4.0]'"
      ]
     },
     "execution_count": 2,
     "metadata": {},
     "output_type": "execute_result"
    }
   ],
   "source": [
    "import sys\n",
    "sys.version"
   ]
  }
 ],
 "metadata": {
  "kernelspec": {
   "display_name": "Python 3 (ipykernel)",
   "language": "python",
   "name": "python3"
  },
  "language_info": {
   "codemirror_mode": {
    "name": "ipython",
    "version": 3
   },
   "file_extension": ".py",
   "mimetype": "text/x-python",
   "name": "python",
   "nbconvert_exporter": "python",
   "pygments_lexer": "ipython3",
   "version": "3.7.12"
  }
 },
 "nbformat": 4,
 "nbformat_minor": 5
}
