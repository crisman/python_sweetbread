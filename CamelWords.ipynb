{
  "metadata": {
    "language_info": {
      "codemirror_mode": {
        "name": "python",
        "version": 3
      },
      "file_extension": ".py",
      "mimetype": "text/x-python",
      "name": "python",
      "nbconvert_exporter": "python",
      "pygments_lexer": "ipython3",
      "version": "3.8"
    },
    "kernelspec": {
      "name": "python",
      "display_name": "Pyolite",
      "language": "python"
    }
  },
  "nbformat_minor": 4,
  "nbformat": 4,
  "cells": [
    {
      "cell_type": "code",
      "source": "import sys\n\nprint(f'{sys.version = }')\nif \"pyodide\" in sys.modules:\n    import pyodide\n    print(f'{pyodide.__version__ = }')",
      "metadata": {
        "trusted": true
      },
      "execution_count": 1,
      "outputs": [
        {
          "name": "stdout",
          "text": "sys.version = '3.10.2 (main, Apr  9 2022, 20:52:01) [Clang 14.0.0 (https://github.com/llvm/llvm-project 78e87970af888bbbd5652c31f3a8'\npyodide.__version__ = '0.20.0'\n",
          "output_type": "stream"
        }
      ]
    },
    {
      "cell_type": "code",
      "source": "class CamelWords:\n    the_fred = \"Fred\"\n\n    def __init__(self):\n        self.bodies = []\n\n    def kill_fred(self, new_fred):\n        cyborg_fred = new_fred + ' (tracked)'\n        self.bodies.append(self.the_fred)\n        self.the_fred = cyborg_fred\n\na = CamelWords()\nb = CamelWords()\nc = CamelWords()\n\nbar = '\\n' + ('-' * 75)\n\ndef cw_state(text):\n    print('    CODE:  ', text)\n    print(f'{id(a.the_fred) = :>30}\\n{id(b.the_fred) = :>30}')\n    print(f'{id(c.the_fred) = :>30}\\n{id(CamelWords.the_fred) = :>21}')\n    print(f'{a.the_fred = :>26}\\n{b.the_fred = :>26}\\n{c.the_fred = :>26}')\n    print(f'{CamelWords.the_fred = :>17}')\n    print(f'{a.bodies = }')\n    if a.bodies:\n        print(f'{id(a.bodies[0]) = :>29}')\n    print(f'{b.bodies = }')\n    if b.bodies:\n        print(f'{id(b.bodies[0]) = :>29}')\n    print(bar)\n\nprint('''Note all the id() are the same for the_fred, they are all the\nexact same object (i.e. CamelWords.the_fred) at this time''')\ncw_state('a = CamelWords();b = CamelWords();c = CamelWords()')\n\nprint('''After a.kill_fred a.the_fred has a different id() as it is now\na instance variable overlaying the class variable''')\na.kill_fred('greg')\ncw_state(\"a.kill_fred('greg')\")\n\nprint('''Setting the CamelWords.the_fred changes the class variable, so both\nb & c see the change as they don't have an instance level overlay''')\nCamelWords.the_fred = 'A Fredlike being'\ncw_state(\"CamelWords.the_fred = 'A Fredlike being'\")\n\nprint('''After b.kill_fred b.the_fred has a different id()''')\nb.kill_fred('harv')\ncw_state(\"b.kill_fred('harv')\")\n\nprint('''After b.kill_fred b.bodies grows''')\nb.kill_fred('indy')\ncw_state(\"b.kill_fred('indy')\")",
      "metadata": {
        "trusted": true
      },
      "execution_count": 2,
      "outputs": [
        {
          "name": "stdout",
          "text": "Note all the id() are the same for the_fred, they are all the\nexact same object (i.e. CamelWords.the_fred) at this time\n    CODE:   a = CamelWords();b = CamelWords();c = CamelWords()\nid(a.the_fred) =                       49369384\nid(b.the_fred) =                       49369384\nid(c.the_fred) =                       49369384\nid(CamelWords.the_fred) =              49369384\na.the_fred =                       Fred\nb.the_fred =                       Fred\nc.the_fred =                       Fred\nCamelWords.the_fred =              Fred\na.bodies = []\nb.bodies = []\n\n---------------------------------------------------------------------------\nAfter a.kill_fred a.the_fred has a different id() as it is now\na instance variable overlaying the class variable\n    CODE:   a.kill_fred('greg')\nid(a.the_fred) =                       49361280\nid(b.the_fred) =                       49369384\nid(c.the_fred) =                       49369384\nid(CamelWords.the_fred) =              49369384\na.the_fred =             greg (tracked)\nb.the_fred =                       Fred\nc.the_fred =                       Fred\nCamelWords.the_fred =              Fred\na.bodies = ['Fred']\nid(a.bodies[0]) =                      49369384\nb.bodies = []\n\n---------------------------------------------------------------------------\nSetting the CamelWords.the_fred changes the class variable, so both\nb & c see the change as they don't have an instance level overlay\n    CODE:   CamelWords.the_fred = 'A Fredlike being'\nid(a.the_fred) =                       49361280\nid(b.the_fred) =                       49360232\nid(c.the_fred) =                       49360232\nid(CamelWords.the_fred) =              49360232\na.the_fred =             greg (tracked)\nb.the_fred =           A Fredlike being\nc.the_fred =           A Fredlike being\nCamelWords.the_fred =  A Fredlike being\na.bodies = ['Fred']\nid(a.bodies[0]) =                      49369384\nb.bodies = []\n\n---------------------------------------------------------------------------\nAfter b.kill_fred b.the_fred has a different id()\n    CODE:   b.kill_fred('harv')\nid(a.the_fred) =                       49361280\nid(b.the_fred) =                       51923096\nid(c.the_fred) =                       49360232\nid(CamelWords.the_fred) =              49360232\na.the_fred =             greg (tracked)\nb.the_fred =             harv (tracked)\nc.the_fred =           A Fredlike being\nCamelWords.the_fred =  A Fredlike being\na.bodies = ['Fred']\nid(a.bodies[0]) =                      49369384\nb.bodies = ['A Fredlike being']\nid(b.bodies[0]) =                      49360232\n\n---------------------------------------------------------------------------\nAfter b.kill_fred b.bodies grows\n    CODE:   b.kill_fred('indy')\nid(a.the_fred) =                       49361280\nid(b.the_fred) =                       53134904\nid(c.the_fred) =                       49360232\nid(CamelWords.the_fred) =              49360232\na.the_fred =             greg (tracked)\nb.the_fred =             indy (tracked)\nc.the_fred =           A Fredlike being\nCamelWords.the_fred =  A Fredlike being\na.bodies = ['Fred']\nid(a.bodies[0]) =                      49369384\nb.bodies = ['A Fredlike being', 'harv (tracked)']\nid(b.bodies[0]) =                      49360232\n\n---------------------------------------------------------------------------\n",
          "output_type": "stream"
        }
      ]
    }
  ]
}